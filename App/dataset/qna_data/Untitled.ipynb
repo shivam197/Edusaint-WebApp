{
 "cells": [
  {
   "cell_type": "code",
   "execution_count": 44,
   "metadata": {},
   "outputs": [],
   "source": [
    "import numpy as np\n",
    "from difflib import SequenceMatcher"
   ]
  },
  {
   "cell_type": "code",
   "execution_count": 69,
   "metadata": {},
   "outputs": [],
   "source": [
    "df = np.load('Data.npz')"
   ]
  },
  {
   "cell_type": "code",
   "execution_count": 68,
   "metadata": {},
   "outputs": [],
   "source": [
    "np.savez(\"Data.npz\",Question = [], Link = [])"
   ]
  },
  {
   "cell_type": "code",
   "execution_count": 65,
   "metadata": {},
   "outputs": [],
   "source": [
    "text = \"A book exhibition was held for four days in a school. The number of tickets sold at the counter on the first, second, third, and final day was respectively 1094, 1812, 2050, and 2751. Find the total number of tickets sold on all the four days.\"\n",
    "maximum = 0\n",
    "position = -1\n",
    "for i in range(len(df['Question'])):\n",
    "    que = str(df['Question'][i])\n",
    "    print()\n",
    "    if maximum <= (SequenceMatcher(None,que,text).ratio()):\n",
    "        maximu\n",
    "        position = i\n"
   ]
  },
  {
   "cell_type": "code",
   "execution_count": 71,
   "metadata": {},
   "outputs": [
    {
     "name": "stdout",
     "output_type": "stream",
     "text": [
      "Fill in the blanks:  (a). 1 lakh = _________ ten thousand.  (b). 1 million = _________ hundred thousand.  (c). 1 crore = _________ ten lakh.  (d). 1 crore = _________ million.  (e). 1 million = _________ lakh. \n",
      "------------------------------------------------[]\n",
      "Place commas correctly and write the numerals:  (a). Seventy three lakh seventy five thousand three hundred seven.  (b). Nine crore five lakh forty one.  (c). Seven crore fifty two lakh twenty one thousand three hundred two.  d). Fifty eight million four hundred twenty three thousand two hundred two.  (e). Twenty three lakh thirty thousand ten. \n",
      "------------------------------------------------[]\n",
      "Insert commas suitably and write the names according to Indian System of Numeration:  (a). 87595762 (b). 8546283  (c). 99900046 (d). 98432701 \n",
      "------------------------------------------------[]\n"
     ]
    }
   ],
   "source": [
    "for i in (df['Question']):\n",
    "    print(i)\n",
    "    print(\"------------------------------------------------[]\")"
   ]
  },
  {
   "cell_type": "code",
   "execution_count": 59,
   "metadata": {},
   "outputs": [
    {
     "data": {
      "text/plain": [
       "4"
      ]
     },
     "execution_count": 59,
     "metadata": {},
     "output_type": "execute_result"
    }
   ],
   "source": [
    "match.index(max(match))"
   ]
  },
  {
   "cell_type": "code",
   "execution_count": 60,
   "metadata": {},
   "outputs": [
    {
     "data": {
      "text/plain": [
       "'static\\\\Class 6\\\\maths\\\\1. Knowing our numbers\\\\5.png'"
      ]
     },
     "execution_count": 60,
     "metadata": {},
     "output_type": "execute_result"
    }
   ],
   "source": [
    "d['Link'][4]"
   ]
  },
  {
   "cell_type": "code",
   "execution_count": null,
   "metadata": {},
   "outputs": [],
   "source": []
  }
 ],
 "metadata": {
  "kernelspec": {
   "display_name": "Python 3",
   "language": "python",
   "name": "python3"
  },
  "language_info": {
   "codemirror_mode": {
    "name": "ipython",
    "version": 3
   },
   "file_extension": ".py",
   "mimetype": "text/x-python",
   "name": "python",
   "nbconvert_exporter": "python",
   "pygments_lexer": "ipython3",
   "version": "3.7.4"
  }
 },
 "nbformat": 4,
 "nbformat_minor": 2
}
